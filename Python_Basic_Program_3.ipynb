{
 "cells": [
  {
   "cell_type": "code",
   "execution_count": 2,
   "metadata": {},
   "outputs": [
    {
     "name": "stdout",
     "output_type": "stream",
     "text": [
      "Enter the first number: 1\n",
      "Enter the second number: 2\n",
      "Enter your choice :\n",
      "1. for addition \n",
      "2. for subtraction \n",
      "3. for multiplication\n",
      "4. for division\n",
      "5. for remainder\n",
      "6. for // 2\n",
      "subtraction is:  -1.0\n",
      "do you want to continue[y|n]: n\n",
      " you are exited.\n"
     ]
    }
   ],
   "source": [
    "#for addition\n",
    "def add(x,y):\n",
    "    return(print(\"addition is: \" ,x+y))\n",
    "#for subtraction\n",
    "def sub(x,y):\n",
    "    return(print(\"subtraction is: \" ,x-y))\n",
    "#for multiplication\n",
    "def mul(x,y):\n",
    "    return(print(\"multiplication is: \" ,x*y))\n",
    "#for division\n",
    "def div(x,y):\n",
    "    return(print(\"division is: \" ,x/y))\n",
    "#for remainder      \n",
    "def mod(x,y):\n",
    "    return(print(\"remainder is: \",x%y)) \n",
    "#for maximum integer after division\n",
    "def maxi(x,y):\n",
    "    return(print(\"integer after division: \",x//y)) \n",
    "d='y'\n",
    "while(d=='y' or d=='Y'):\n",
    "    a=float(input(\"Enter the first number: \"))\n",
    "    b=float(input(\"Enter the second number: \"))\n",
    "    c=float(input(\"Enter your choice :\\n1. for addition \\n2. for subtraction \\n3. for multiplication\\n4. for division\\n5. for remainder\\n6. for // \", ))\n",
    "    if c==1:\n",
    "        add(a,b)\n",
    "    elif c==2:\n",
    "        sub(a,b)\n",
    "    elif c==3:\n",
    "        mul(a,b)\n",
    "    elif c==4:\n",
    "        div(a,b)\n",
    "    elif c==5:\n",
    "        mod(a,b)\n",
    "    elif c==6:\n",
    "        maxi(a,b)\n",
    "         \n",
    "    else:\n",
    "        print(\"print enter between 1-6\")\n",
    "    d=input(\"do you want to continue[y|n]: \")\n",
    "if(d!='y'or d!='Y'):\n",
    "    print(\" you are exited.\")\n"
   ]
  },
  {
   "cell_type": "code",
   "execution_count": 6,
   "metadata": {},
   "outputs": [
    {
     "name": "stdout",
     "output_type": "stream",
     "text": [
      "Enter 1st number:2\n",
      "Enter 2nd number:3\n",
      "Enter your choice :\n",
      "1. for addition \n",
      "2. for subtraction \n",
      "3. for multiplication\n",
      "4. for division\n",
      "5. for remainder\n",
      "6. for // 1\n",
      "Sum is: 5.0\n",
      "do you want to continue[y|n]: y\n",
      "Enter 1st number:2\n",
      "Enter 2nd number:3\n",
      "Enter your choice :\n",
      "1. for addition \n",
      "2. for subtraction \n",
      "3. for multiplication\n",
      "4. for division\n",
      "5. for remainder\n",
      "6. for // 3\n",
      "Product is: 6.0\n",
      "do you want to continue[y|n]: n\n",
      " you are exited.\n"
     ]
    }
   ],
   "source": [
    "def add(x,y):\n",
    "    return(print(\"Sum is:\",x+y))\n",
    "def diff(x,y):\n",
    "    return(print(\"Difference is:\",x-y))\n",
    "def mul(x,y):\n",
    "    return(print(\"Product is:\",x*y))\n",
    "def div(x,y):\n",
    "    return(print(\"Division is:\",x/y))\n",
    "def mod(x,y):\n",
    "    return(print(\"Reminder is:\",x%y))\n",
    "def floor(x,y):\n",
    "    return(print(\"Integer is:\",x//y))\n",
    "d='y'\n",
    "while(d=='y' or d=='Y'):\n",
    "    a=float(input(\"Enter 1st number:\"))\n",
    "    b=float(input(\"Enter 2nd number:\"))\n",
    "    c=int(input(\"Enter your choice :\\n1. for addition \\n2. for subtraction \\n3. for multiplication\\n4. for division\\n5. for remainder\\n6. for // \" ))\n",
    "    if(c==1):\n",
    "        add(a,b)\n",
    "    elif(c==2):\n",
    "        diff(a,b)\n",
    "    elif(c==3):\n",
    "        mul(a,b)\n",
    "    elif(c==4):\n",
    "        div(a,b)\n",
    "    elif(c==5):\n",
    "        mod(a,b)\n",
    "    elif(c==6):\n",
    "        floor(a,b)\n",
    "    else:\n",
    "        print(\"print enter between 1-6\")\n",
    "    d=input(\"do you want to continue[y|n]: \")\n",
    "if(d!='y'or d!='Y'):\n",
    "    print(\" you are exited.\")\n",
    "        \n",
    "    "
   ]
  },
  {
   "cell_type": "code",
   "execution_count": 7,
   "metadata": {},
   "outputs": [
    {
     "name": "stdout",
     "output_type": "stream",
     "text": [
      "Enter a :1\n",
      "Enter b :2\n",
      "Enter c :3\n",
      "The roots are (-1-1.4142135623730951j),(-1+1.4142135623730951j)\n"
     ]
    }
   ],
   "source": [
    "import cmath\n",
    "#taking the coefficient(ax^2 +bX +c)\n",
    "a=float(input('Enter a :'))\n",
    "b=float(input('Enter b :'))\n",
    "c=float(input('Enter c :'))\n",
    "d=(b**2)-(4*a*c)\n",
    "x1= (-b-cmath.sqrt(d))/(2*a)\n",
    "x2= (-b+cmath.sqrt(d))/(2*a)\n",
    "print('The roots are {},{}'.format(x1,x2) )\n"
   ]
  },
  {
   "cell_type": "code",
   "execution_count": 22,
   "metadata": {},
   "outputs": [
    {
     "name": "stdout",
     "output_type": "stream",
     "text": [
      "Enter the number:2\n",
      "Enter - \"1\" for reversing the no. \n",
      "Enter \"2\" for sum of digits \n",
      "3\n",
      "do you want to continue[y|n]: n\n",
      " you are exited.\n"
     ]
    }
   ],
   "source": [
    "#for reversing\n",
    "def reverse(n):\n",
    "    rev=0\n",
    "    while(n>0):\n",
    "        dig=n%10\n",
    "        rev=rev*10+dig\n",
    "        n=n//10\n",
    "    print('Reversed  number  is :',rev)\n",
    "#for sum of a given number\n",
    "def sum1(n):\n",
    "    tot=0\n",
    "    while(n>0):\n",
    "        dig=n%10\n",
    "        tot=tot+dig\n",
    "        n=n//10\n",
    "    print(\"The total sum of digits is:\",tot)\n",
    "#for taking input from user\n",
    "d='y'\n",
    "while(d=='y' or d=='Y'):\n",
    "    n=int(input('Enter the number:'))\n",
    "    print('Enter - \"1\" for reversing the no. \\nEnter \"2\" for sum of digits ')\n",
    "    x=str(input())\n",
    "    if x=='1':\n",
    "        reverse(n)\n",
    "    elif x=='2':\n",
    "        sum1(n)\n",
    "    d=input(\"do you want to continue[y|n]: \")\n",
    "if(d!='y'or d!='Y'):\n",
    "    print(\" you are exited.\")\n"
   ]
  },
  {
   "cell_type": "code",
   "execution_count": 23,
   "metadata": {},
   "outputs": [
    {
     "name": "stdout",
     "output_type": "stream",
     "text": [
      "Enter the number:234\n",
      "Enter - \"1\" for reversing the no. \n",
      "Enter \"2\" for sum of digits \n",
      "1\n",
      "Reversed number is 432432.\n",
      "do you want to continue[y|n]: n\n",
      " you are exited.\n"
     ]
    }
   ],
   "source": [
    "def reverse(n):\n",
    "    rev=0\n",
    "    while(n>0):\n",
    "        dig=n%10\n",
    "        rev=rev*10+dig\n",
    "        n=n//10\n",
    "    return(print(\"Reversed number is {}.\".format(str(rev)*2)))\n",
    "\n",
    "def sod(n):\n",
    "    summ=0\n",
    "    while(n>0):\n",
    "        dig=n%10\n",
    "        summ+=dig\n",
    "        n=n//10\n",
    "    return(print(\"Sum of digits is {}.\".format(summ)))\n",
    "\n",
    "#for taking input from user\n",
    "d='y'\n",
    "while(d=='y' or d=='Y'):\n",
    "    n=int(input('Enter the number:'))\n",
    "    print('Enter - \"1\" for reversing the no. \\nEnter \"2\" for sum of digits ')\n",
    "    x=str(input())\n",
    "    if x=='1':\n",
    "        reverse(n)\n",
    "    elif x=='2':\n",
    "        summ(n)\n",
    "    d=input(\"do you want to continue[y|n]: \")\n",
    "if(d!='y'or d!='Y'):\n",
    "    print(\" you are exited.\")\n"
   ]
  },
  {
   "cell_type": "code",
   "execution_count": 24,
   "metadata": {},
   "outputs": [
    {
     "name": "stdout",
     "output_type": "stream",
     "text": [
      "Enter the no.:2\n",
      " Enter 1 to check even/odd \n",
      " Enter 2 to check prime2\n",
      "2 is a prime number.\n",
      "Do you want to continue[y|n]: n\n",
      " you are exited.\n"
     ]
    }
   ],
   "source": [
    "def check(a):\n",
    "    if (a%2)==0 :\n",
    "        \n",
    "        print(\"Given no. is even\")\n",
    "    else:\n",
    "        print(\"Given no. is odd\")        \n",
    "def prime(a):\n",
    "    if a > 1:\n",
    "        for i in range(2,a):\n",
    "            if (a % i) == 0:\n",
    "                print(a,\"is not a prime number.\")\n",
    "                print(i,\"times\",a//i,\"is\",a)\n",
    "                break\n",
    "            else:\n",
    "                print(a,\"is a prime number.\")\n",
    "       \n",
    "# if input number is less than\n",
    "# or equal to 1, it is not prime\n",
    "    else:\n",
    "        print(a,\"is not a prime number\")\n",
    "   \n",
    "d='y'\n",
    "while(d=='y' or d=='Y'):  \n",
    "    a=int(input(\"Enter the no.:\"))\n",
    "    c=int(input(\" Enter 1 to check even/odd \\n Enter 2 to check prime\" ))\n",
    "    if c==1:\n",
    "       check(a)\n",
    "    elif c==2:\n",
    "         prime(a)\n",
    "    d=input(\"Do you want to continue[y|n]: \")\n",
    "if(d!='y'or d!='Y'):\n",
    "    print(\" you are exited.\")    \n"
   ]
  },
  {
   "cell_type": "code",
   "execution_count": 25,
   "metadata": {},
   "outputs": [
    {
     "name": "stdout",
     "output_type": "stream",
     "text": [
      "Enter first no.:2\n",
      "Enter second no.:3\n",
      "Enter third no.:4\n",
      "Maximum no. is: 4\n",
      "Do you  want to continue[y|n]n\n",
      "you are exited\n"
     ]
    }
   ],
   "source": [
    "d='y'\n",
    "while (d=='y' or d=='Y'):\n",
    "    a=int(input(\"Enter first no.:\"))\n",
    "    b=int(input(\"Enter second no.:\"))\n",
    "    c=int(input(\"Enter third no.:\"))\n",
    "    if a>b and a>c:\n",
    "        print(\"Maximum no. is:\",a)\n",
    "    elif b>c and b>a:\n",
    "        print(\"Maximum no. is: \",b)\n",
    "    else:\n",
    "        print(\"Maximum no. is:\",c)\n",
    "    d=input(\"Do you  want to continue[y|n]\")\n",
    "if d!='y' or d!='Y':\n",
    "    print(\"you are exited\")\n"
   ]
  },
  {
   "cell_type": "code",
   "execution_count": null,
   "metadata": {},
   "outputs": [],
   "source": [
    "d='y'\n",
    "while (d=='y' or d=='Y'):\n",
    "    n=int(input(\"Enter the no.  except( zero)   \"))\n",
    "    sum=0\n",
    "    temp=n\n",
    "    while temp>0:\n",
    "    \n",
    "        digit=temp%10\n",
    "        sum += digit**3\n",
    "        temp=temp//10\n",
    "    if n==sum:\n",
    "        \n",
    "        print(n,\", is an  armstrong number\")\n",
    "    else:\n",
    "        \n",
    "        print(n,\", is not an armstrong number\")\n",
    "    d=input(\"Do you want to  continue[Y|N]\")\n",
    "if (d!='y' or d!='Y'):\n",
    "    print(\"you are exited\")\n"
   ]
  },
  {
   "cell_type": "code",
   "execution_count": 30,
   "metadata": {},
   "outputs": [
    {
     "name": "stdout",
     "output_type": "stream",
     "text": [
      "Enter a number: 5\n",
      "The factorial of 5 is 120\n"
     ]
    }
   ],
   "source": [
    "def recur_factorial(n):  \n",
    "    if (n == 1 or n==0):  \n",
    "        return 1 \n",
    "    else:  \n",
    "        return n*recur_factorial(n-1)  \n",
    "# take input from the user  \n",
    "num = int(input(\"Enter a number: \"))  \n",
    "# check is the number is negative  \n",
    "if num < 0:  \n",
    "    print(\"Sorry, factorial does not exist for negative numbers\")  \n",
    "else:  \n",
    "    print(\"The factorial of\",num,\"is\",recur_factorial(num))  \n"
   ]
  },
  {
   "cell_type": "code",
   "execution_count": 34,
   "metadata": {},
   "outputs": [
    {
     "name": "stdout",
     "output_type": "stream",
     "text": [
      "Enter a number: 5\n",
      "The factorial of 5 is 120\n"
     ]
    }
   ],
   "source": [
    "from functools import reduce\n",
    "def recur_factorial(n):  \n",
    "    if (n == 1 or n==0):  \n",
    "        return 1 \n",
    "    else:  \n",
    "        a=range(1,n+1)\n",
    "        return(reduce(lambda x,y:x*y,a))\n",
    "# take input from the user  \n",
    "num = int(input(\"Enter a number: \"))  \n",
    "# check is the number is negative  \n",
    "if num < 0:  \n",
    "    print(\"Sorry, factorial does not exist for negative numbers\")  \n",
    "else:  \n",
    "    print(\"The factorial of\",num,\"is\",recur_factorial(num))  "
   ]
  },
  {
   "cell_type": "code",
   "execution_count": 2,
   "metadata": {},
   "outputs": [
    {
     "name": "stdout",
     "output_type": "stream",
     "text": [
      "Enter number of terms : 1\n",
      "fibonaaci series upto 1\n",
      "0  "
     ]
    }
   ],
   "source": [
    "def fibo(n):\n",
    "    if n<=1:\n",
    "        return n\n",
    "    else:\n",
    "        return(fibo(n-1) +  fibo(n-2))\n",
    "nterm=int(input(\"Enter number of terms : \"))\n",
    "if nterm<=0:\n",
    "    print(\"please enter positive value\")\n",
    "else:\n",
    "    print(\"fibonaaci series upto {}\".format(nterm))\n",
    "    for i in range(nterm):\n",
    "        print(fibo(i),end='  ')\n"
   ]
  },
  {
   "cell_type": "code",
   "execution_count": null,
   "metadata": {},
   "outputs": [],
   "source": [
    "n=int(input(\"Enter how many no. you want to check : \"))\n",
    "g=int(input(\"Enter the first number\"))\n",
    "for i in range(2,n+1):\n",
    "    k=int(input(\"Enter the %i number : \"%i))\n",
    "    if k>g :\n",
    "        g=k\n",
    "print(\"The greatest number is \",g)\n"
   ]
  },
  {
   "cell_type": "code",
   "execution_count": 43,
   "metadata": {},
   "outputs": [
    {
     "name": "stdout",
     "output_type": "stream",
     "text": [
      "Enter  string:   NitIn\n",
      "Entered string is a palindrome.\n"
     ]
    }
   ],
   "source": [
    "def reverse(s):\n",
    "    return s[::-1].lower()\n",
    "def ispalindrome(s):\n",
    "    rev=reverse(s)\n",
    "    if (rev==a):\n",
    "        return True\n",
    "    else:\n",
    "        return False\n",
    "s=str(input(\"Enter  string:   \"))\n",
    "a=s.lower()\n",
    "ans=ispalindrome(s)\n",
    "if ans==1:\n",
    "    print(\"Entered string is a palindrome.\")\n",
    "else:\n",
    "    print(\"Not a palindrome. \")\n"
   ]
  },
  {
   "cell_type": "code",
   "execution_count": 44,
   "metadata": {},
   "outputs": [
    {
     "name": "stdout",
     "output_type": "stream",
     "text": [
      "\t\t\t\t\t5\t\n",
      "\n",
      "\t\t\t\t4\t5\t\n",
      "\n",
      "\t\t\t3\t4\t5\t\n",
      "\n",
      "\t\t2\t3\t4\t5\t\n",
      "\n",
      "\t1\t2\t3\t4\t5\t\n",
      "\n"
     ]
    }
   ],
   "source": [
    "n=5\n",
    "k=4\n",
    "for i in range(n,0,-1):\n",
    "    print(k*'\\t',end=\"\\t\")\n",
    "    for j in range(i,n+1):\n",
    "        print(j,end=\"\\t\")\n",
    "    k-=1\n",
    "    print('\\n')\n"
   ]
  },
  {
   "cell_type": "code",
   "execution_count": null,
   "metadata": {},
   "outputs": [],
   "source": [
    "#Program to implement Inheritence\n",
    "\n",
    "class Employee:\n",
    "    def __init__(self,fname,lname):\n",
    "        self.firstname =fname\n",
    "        self.lastname = lname\n",
    "\n",
    "    def printname(self):\n",
    "        print(\"In parent class\")\n",
    "        print(self.firstname,self.lastname)\n",
    "        \n",
    "class Manager(Employee):\n",
    "    def __init__(self,fname,lname,position):\n",
    "        super().__init__(self,fname,lname)\n",
    "        self.position = position\n",
    "    def printManager(self):\n",
    "        print(\"In manager class\")\n",
    "        print(\"Welcome \",self.firstname,self.lastname,\" in the position of \",self.position)\n",
    "\n",
    "\n",
    "class Clerk(Employee):\n",
    "    def __init__(self,fname,lname,salary):\n",
    "        super().__init__(self,fname,lname)\n",
    "        self.salary = salary\n",
    "    def printClerk(self):\n",
    "        print(\"In clerk class\")\n",
    "        print(\"Welcome \",self.firstname,self.lastname,\" your salary  is : \",self.salary)\n",
    "\n",
    "\n",
    "\n",
    "print(\"Inheritance \")\n",
    "fname = input(\"Enter first name : \")\n",
    "lname = input(\"Enter last name : \")\n",
    "position = input(\"Enter position name : \")\n",
    "salary = int(input(\"Enter salary : \"))\n",
    "\n",
    "emp = Employee(fname,lname)\n",
    "\n",
    "man= Manager(fname,lname,position)\n",
    "\n",
    "clerk = Clerk(fname,lname,salary)\n",
    "\n",
    "emp.printname()\n",
    "man.printManager()\n",
    "clerk.printClerk()\n"
   ]
  },
  {
   "cell_type": "code",
   "execution_count": null,
   "metadata": {},
   "outputs": [],
   "source": []
  },
  {
   "cell_type": "code",
   "execution_count": null,
   "metadata": {},
   "outputs": [],
   "source": []
  },
  {
   "cell_type": "code",
   "execution_count": null,
   "metadata": {},
   "outputs": [],
   "source": []
  }
 ],
 "metadata": {
  "kernelspec": {
   "display_name": "Python 3",
   "language": "python",
   "name": "python3"
  },
  "language_info": {
   "codemirror_mode": {
    "name": "ipython",
    "version": 3
   },
   "file_extension": ".py",
   "mimetype": "text/x-python",
   "name": "python",
   "nbconvert_exporter": "python",
   "pygments_lexer": "ipython3",
   "version": "3.7.4"
  }
 },
 "nbformat": 4,
 "nbformat_minor": 2
}
