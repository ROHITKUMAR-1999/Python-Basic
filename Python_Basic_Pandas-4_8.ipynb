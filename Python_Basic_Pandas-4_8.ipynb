{
 "cells": [
  {
   "cell_type": "markdown",
   "metadata": {},
   "source": [
    "# Python Foundation: \n",
    "\n",
    "> 1. Type conversion functions:\n",
    "    - Datetime\n",
    "    - int/float\n",
    "    - object\n",
    "    \n",
    "> 2. Plots/Graphs in python\n",
    "    - Using pandas plot\n",
    "    - Using pyplot from matplotlib\n",
    "    - Using seaborn\n",
    "    - --------------------------------------\n",
    "    - plotnine/ggplot\n",
    "    - Bokeh\n",
    "    - plotly"
   ]
  },
  {
   "cell_type": "code",
   "execution_count": 1,
   "metadata": {},
   "outputs": [],
   "source": [
    "import pandas as pd"
   ]
  },
  {
   "cell_type": "code",
   "execution_count": 2,
   "metadata": {},
   "outputs": [],
   "source": [
    "stores=pd.read_csv('Data Sets/stores.csv')"
   ]
  },
  {
   "cell_type": "code",
   "execution_count": 3,
   "metadata": {},
   "outputs": [],
   "source": [
    "Q1 = pd.read_csv('Data Sets/POS_Q1.csv')"
   ]
  },
  {
   "cell_type": "markdown",
   "metadata": {},
   "source": [
    "### map / apply / applymap\n",
    "> 1. map: works on each element of series\n",
    "> 2. applymap: works on each element within a dataframe\n",
    "> 3. apply works on series or individual item depending on its use"
   ]
  },
  {
   "cell_type": "code",
   "execution_count": 4,
   "metadata": {},
   "outputs": [],
   "source": [
    "# convert Location variable from stores dataset into upper case (map)\n",
    "\n",
    "# convert Store type and Location variables from stores dataset into upper case (applymap)\n",
    "\n",
    "# convert all object variables from stores dataset into upper case (applymap)\n",
    "\n",
    "# get the sum of all numerical variables from stores dataset\n",
    "\n",
    "# create a UDF that takes series as an input and return stats summary of data for int variables (.describe function)"
   ]
  },
  {
   "cell_type": "code",
   "execution_count": 5,
   "metadata": {},
   "outputs": [
    {
     "data": {
      "text/html": [
       "<div>\n",
       "<style scoped>\n",
       "    .dataframe tbody tr th:only-of-type {\n",
       "        vertical-align: middle;\n",
       "    }\n",
       "\n",
       "    .dataframe tbody tr th {\n",
       "        vertical-align: top;\n",
       "    }\n",
       "\n",
       "    .dataframe thead th {\n",
       "        text-align: right;\n",
       "    }\n",
       "</style>\n",
       "<table border=\"1\" class=\"dataframe\">\n",
       "  <thead>\n",
       "    <tr style=\"text-align: right;\">\n",
       "      <th></th>\n",
       "      <th>StoreCode</th>\n",
       "      <th>StoreName</th>\n",
       "      <th>StoreType</th>\n",
       "      <th>Location</th>\n",
       "      <th>OperatingCost</th>\n",
       "      <th>Staff_Cnt</th>\n",
       "      <th>TotalSales</th>\n",
       "      <th>Total_Customers</th>\n",
       "      <th>AcqCostPercust</th>\n",
       "      <th>BasketSize</th>\n",
       "      <th>ProfitPercust</th>\n",
       "      <th>OwnStore</th>\n",
       "      <th>OnlinePresence</th>\n",
       "      <th>Tenure</th>\n",
       "      <th>StoreSegment</th>\n",
       "    </tr>\n",
       "  </thead>\n",
       "  <tbody>\n",
       "    <tr>\n",
       "      <th>0</th>\n",
       "      <td>STR101</td>\n",
       "      <td>Electronics Zone</td>\n",
       "      <td>Electronincs</td>\n",
       "      <td>Delhi</td>\n",
       "      <td>21.0</td>\n",
       "      <td>60</td>\n",
       "      <td>160.0</td>\n",
       "      <td>110</td>\n",
       "      <td>3.90</td>\n",
       "      <td>2.620</td>\n",
       "      <td>16.46</td>\n",
       "      <td>0</td>\n",
       "      <td>1</td>\n",
       "      <td>4</td>\n",
       "      <td>4</td>\n",
       "    </tr>\n",
       "    <tr>\n",
       "      <th>1</th>\n",
       "      <td>STR102</td>\n",
       "      <td>Apparel Zone</td>\n",
       "      <td>Apparel</td>\n",
       "      <td>Delhi</td>\n",
       "      <td>21.0</td>\n",
       "      <td>60</td>\n",
       "      <td>160.0</td>\n",
       "      <td>110</td>\n",
       "      <td>3.90</td>\n",
       "      <td>2.875</td>\n",
       "      <td>17.02</td>\n",
       "      <td>0</td>\n",
       "      <td>1</td>\n",
       "      <td>4</td>\n",
       "      <td>4</td>\n",
       "    </tr>\n",
       "    <tr>\n",
       "      <th>2</th>\n",
       "      <td>STR103</td>\n",
       "      <td>Super Bazar</td>\n",
       "      <td>Super Market</td>\n",
       "      <td>Delhi</td>\n",
       "      <td>22.8</td>\n",
       "      <td>40</td>\n",
       "      <td>108.0</td>\n",
       "      <td>93</td>\n",
       "      <td>3.85</td>\n",
       "      <td>2.320</td>\n",
       "      <td>18.61</td>\n",
       "      <td>1</td>\n",
       "      <td>1</td>\n",
       "      <td>4</td>\n",
       "      <td>1</td>\n",
       "    </tr>\n",
       "    <tr>\n",
       "      <th>3</th>\n",
       "      <td>STR104</td>\n",
       "      <td>Super Market</td>\n",
       "      <td>Super Market</td>\n",
       "      <td>Delhi</td>\n",
       "      <td>21.4</td>\n",
       "      <td>60</td>\n",
       "      <td>258.0</td>\n",
       "      <td>110</td>\n",
       "      <td>3.08</td>\n",
       "      <td>3.215</td>\n",
       "      <td>19.44</td>\n",
       "      <td>1</td>\n",
       "      <td>0</td>\n",
       "      <td>3</td>\n",
       "      <td>1</td>\n",
       "    </tr>\n",
       "    <tr>\n",
       "      <th>4</th>\n",
       "      <td>STR105</td>\n",
       "      <td>Central Store</td>\n",
       "      <td>Super Market</td>\n",
       "      <td>Delhi</td>\n",
       "      <td>18.7</td>\n",
       "      <td>80</td>\n",
       "      <td>360.0</td>\n",
       "      <td>175</td>\n",
       "      <td>3.15</td>\n",
       "      <td>3.440</td>\n",
       "      <td>17.02</td>\n",
       "      <td>0</td>\n",
       "      <td>0</td>\n",
       "      <td>3</td>\n",
       "      <td>2</td>\n",
       "    </tr>\n",
       "  </tbody>\n",
       "</table>\n",
       "</div>"
      ],
      "text/plain": [
       "  StoreCode         StoreName     StoreType Location  OperatingCost  \\\n",
       "0    STR101  Electronics Zone  Electronincs    Delhi           21.0   \n",
       "1    STR102      Apparel Zone       Apparel    Delhi           21.0   \n",
       "2    STR103       Super Bazar  Super Market    Delhi           22.8   \n",
       "3    STR104      Super Market  Super Market    Delhi           21.4   \n",
       "4    STR105     Central Store  Super Market    Delhi           18.7   \n",
       "\n",
       "   Staff_Cnt  TotalSales  Total_Customers  AcqCostPercust  BasketSize  \\\n",
       "0         60       160.0              110            3.90       2.620   \n",
       "1         60       160.0              110            3.90       2.875   \n",
       "2         40       108.0               93            3.85       2.320   \n",
       "3         60       258.0              110            3.08       3.215   \n",
       "4         80       360.0              175            3.15       3.440   \n",
       "\n",
       "   ProfitPercust  OwnStore  OnlinePresence  Tenure  StoreSegment  \n",
       "0          16.46         0               1       4             4  \n",
       "1          17.02         0               1       4             4  \n",
       "2          18.61         1               1       4             1  \n",
       "3          19.44         1               0       3             1  \n",
       "4          17.02         0               0       3             2  "
      ]
     },
     "execution_count": 5,
     "metadata": {},
     "output_type": "execute_result"
    }
   ],
   "source": [
    "stores.head()"
   ]
  },
  {
   "cell_type": "code",
   "execution_count": 6,
   "metadata": {},
   "outputs": [
    {
     "data": {
      "text/plain": [
       "0       DELHI\n",
       "1       DELHI\n",
       "2       DELHI\n",
       "3       DELHI\n",
       "4       DELHI\n",
       "5       DELHI\n",
       "6       DELHI\n",
       "7       DELHI\n",
       "8     CHENNAI\n",
       "9     CHENNAI\n",
       "10    CHENNAI\n",
       "11    CHENNAI\n",
       "12    CHENNAI\n",
       "13    CHENNAI\n",
       "14    CHENNAI\n",
       "15    CHENNAI\n",
       "16     MUMBAI\n",
       "17     MUMBAI\n",
       "18     MUMBAI\n",
       "19     MUMBAI\n",
       "20     MUMBAI\n",
       "21     MUMBAI\n",
       "22     MUMBAI\n",
       "23     MUMBAI\n",
       "24    KOLKATA\n",
       "25    KOLKATA\n",
       "26    KOLKATA\n",
       "27    KOLKATA\n",
       "28    KOLKATA\n",
       "29    KOLKATA\n",
       "30    KOLKATA\n",
       "31    KOLKATA\n",
       "dtype: object"
      ]
     },
     "execution_count": 6,
     "metadata": {},
     "output_type": "execute_result"
    }
   ],
   "source": [
    "# convert Location variable from stores dataset into upper case (map)\n",
    "pd.Series(map(lambda x: x.upper(), stores.Location))"
   ]
  },
  {
   "cell_type": "code",
   "execution_count": 14,
   "metadata": {},
   "outputs": [
    {
     "name": "stdout",
     "output_type": "stream",
     "text": [
      "OperatingCost      642.900\n",
      "TotalSales        7383.100\n",
      "AcqCostPercust         NaN\n",
      "BasketSize         102.952\n",
      "ProfitPercust      571.160\n",
      "dtype: float64\n",
      "0     203.980\n",
      "1     204.795\n",
      "2     155.580\n",
      "3     305.135\n",
      "4     402.310\n",
      "5     269.540\n",
      "6     396.920\n",
      "7     197.980\n",
      "8     193.570\n",
      "9     212.460\n",
      "10    211.660\n",
      "11        NaN\n",
      "12        NaN\n",
      "13        NaN\n",
      "14    508.560\n",
      "15    496.644\n",
      "16    480.695\n",
      "17    136.850\n",
      "18    131.165\n",
      "19    130.955\n",
      "20    167.775\n",
      "21    356.650\n",
      "22    343.085\n",
      "23    386.280\n",
      "24    443.175\n",
      "25    131.215\n",
      "26    169.570\n",
      "27    147.683\n",
      "28    388.690\n",
      "29    186.590\n",
      "30    337.710\n",
      "31    167.890\n",
      "dtype: float64\n"
     ]
    }
   ],
   "source": [
    "stores_flt=stores.loc[:,stores.dtypes=='float64']\n",
    "print(stores_flt.apply(sum,axis=0))\n",
    "print(stores_flt.apply(sum,axis=1))\n",
    "#stores.apply(sum)\n",
    "#stores_flt.apply?"
   ]
  },
  {
   "cell_type": "code",
   "execution_count": 18,
   "metadata": {},
   "outputs": [
    {
     "data": {
      "text/html": [
       "<div>\n",
       "<style scoped>\n",
       "    .dataframe tbody tr th:only-of-type {\n",
       "        vertical-align: middle;\n",
       "    }\n",
       "\n",
       "    .dataframe tbody tr th {\n",
       "        vertical-align: top;\n",
       "    }\n",
       "\n",
       "    .dataframe thead th {\n",
       "        text-align: right;\n",
       "    }\n",
       "</style>\n",
       "<table border=\"1\" class=\"dataframe\">\n",
       "  <thead>\n",
       "    <tr style=\"text-align: right;\">\n",
       "      <th></th>\n",
       "      <th>Location</th>\n",
       "      <th>StoreType</th>\n",
       "    </tr>\n",
       "  </thead>\n",
       "  <tbody>\n",
       "    <tr>\n",
       "      <th>0</th>\n",
       "      <td>DELHI</td>\n",
       "      <td>ELECTRONINCS</td>\n",
       "    </tr>\n",
       "    <tr>\n",
       "      <th>1</th>\n",
       "      <td>DELHI</td>\n",
       "      <td>APPAREL</td>\n",
       "    </tr>\n",
       "    <tr>\n",
       "      <th>2</th>\n",
       "      <td>DELHI</td>\n",
       "      <td>SUPER MARKET</td>\n",
       "    </tr>\n",
       "    <tr>\n",
       "      <th>3</th>\n",
       "      <td>DELHI</td>\n",
       "      <td>SUPER MARKET</td>\n",
       "    </tr>\n",
       "    <tr>\n",
       "      <th>4</th>\n",
       "      <td>DELHI</td>\n",
       "      <td>SUPER MARKET</td>\n",
       "    </tr>\n",
       "    <tr>\n",
       "      <th>5</th>\n",
       "      <td>DELHI</td>\n",
       "      <td>APPAREL</td>\n",
       "    </tr>\n",
       "    <tr>\n",
       "      <th>6</th>\n",
       "      <td>DELHI</td>\n",
       "      <td>APPAREL</td>\n",
       "    </tr>\n",
       "    <tr>\n",
       "      <th>7</th>\n",
       "      <td>DELHI</td>\n",
       "      <td>ELECTRONINCS</td>\n",
       "    </tr>\n",
       "    <tr>\n",
       "      <th>8</th>\n",
       "      <td>CHENNAI</td>\n",
       "      <td>ELECTRONINCS</td>\n",
       "    </tr>\n",
       "    <tr>\n",
       "      <th>9</th>\n",
       "      <td>CHENNAI</td>\n",
       "      <td>APPAREL</td>\n",
       "    </tr>\n",
       "    <tr>\n",
       "      <th>10</th>\n",
       "      <td>CHENNAI</td>\n",
       "      <td>SUPER MARKET</td>\n",
       "    </tr>\n",
       "    <tr>\n",
       "      <th>11</th>\n",
       "      <td>CHENNAI</td>\n",
       "      <td>SUPER MARKET</td>\n",
       "    </tr>\n",
       "    <tr>\n",
       "      <th>12</th>\n",
       "      <td>CHENNAI</td>\n",
       "      <td>SUPER MARKET</td>\n",
       "    </tr>\n",
       "    <tr>\n",
       "      <th>13</th>\n",
       "      <td>CHENNAI</td>\n",
       "      <td>APPAREL</td>\n",
       "    </tr>\n",
       "    <tr>\n",
       "      <th>14</th>\n",
       "      <td>CHENNAI</td>\n",
       "      <td>APPAREL</td>\n",
       "    </tr>\n",
       "    <tr>\n",
       "      <th>15</th>\n",
       "      <td>CHENNAI</td>\n",
       "      <td>ELECTRONINCS</td>\n",
       "    </tr>\n",
       "    <tr>\n",
       "      <th>16</th>\n",
       "      <td>MUMBAI</td>\n",
       "      <td>ELECTRONINCS</td>\n",
       "    </tr>\n",
       "    <tr>\n",
       "      <th>17</th>\n",
       "      <td>MUMBAI</td>\n",
       "      <td>APPAREL</td>\n",
       "    </tr>\n",
       "    <tr>\n",
       "      <th>18</th>\n",
       "      <td>MUMBAI</td>\n",
       "      <td>SUPER MARKET</td>\n",
       "    </tr>\n",
       "    <tr>\n",
       "      <th>19</th>\n",
       "      <td>MUMBAI</td>\n",
       "      <td>SUPER MARKET</td>\n",
       "    </tr>\n",
       "    <tr>\n",
       "      <th>20</th>\n",
       "      <td>MUMBAI</td>\n",
       "      <td>SUPER MARKET</td>\n",
       "    </tr>\n",
       "    <tr>\n",
       "      <th>21</th>\n",
       "      <td>MUMBAI</td>\n",
       "      <td>APPAREL</td>\n",
       "    </tr>\n",
       "    <tr>\n",
       "      <th>22</th>\n",
       "      <td>MUMBAI</td>\n",
       "      <td>APPAREL</td>\n",
       "    </tr>\n",
       "    <tr>\n",
       "      <th>23</th>\n",
       "      <td>MUMBAI</td>\n",
       "      <td>ELECTRONINCS</td>\n",
       "    </tr>\n",
       "    <tr>\n",
       "      <th>24</th>\n",
       "      <td>KOLKATA</td>\n",
       "      <td>ELECTRONINCS</td>\n",
       "    </tr>\n",
       "    <tr>\n",
       "      <th>25</th>\n",
       "      <td>KOLKATA</td>\n",
       "      <td>APPAREL</td>\n",
       "    </tr>\n",
       "    <tr>\n",
       "      <th>26</th>\n",
       "      <td>KOLKATA</td>\n",
       "      <td>SUPER MARKET</td>\n",
       "    </tr>\n",
       "    <tr>\n",
       "      <th>27</th>\n",
       "      <td>KOLKATA</td>\n",
       "      <td>SUPER MARKET</td>\n",
       "    </tr>\n",
       "    <tr>\n",
       "      <th>28</th>\n",
       "      <td>KOLKATA</td>\n",
       "      <td>SUPER MARKET</td>\n",
       "    </tr>\n",
       "    <tr>\n",
       "      <th>29</th>\n",
       "      <td>KOLKATA</td>\n",
       "      <td>APPAREL</td>\n",
       "    </tr>\n",
       "    <tr>\n",
       "      <th>30</th>\n",
       "      <td>KOLKATA</td>\n",
       "      <td>APPAREL</td>\n",
       "    </tr>\n",
       "    <tr>\n",
       "      <th>31</th>\n",
       "      <td>KOLKATA</td>\n",
       "      <td>ELECTRONINCS</td>\n",
       "    </tr>\n",
       "  </tbody>\n",
       "</table>\n",
       "</div>"
      ],
      "text/plain": [
       "   Location     StoreType\n",
       "0     DELHI  ELECTRONINCS\n",
       "1     DELHI       APPAREL\n",
       "2     DELHI  SUPER MARKET\n",
       "3     DELHI  SUPER MARKET\n",
       "4     DELHI  SUPER MARKET\n",
       "5     DELHI       APPAREL\n",
       "6     DELHI       APPAREL\n",
       "7     DELHI  ELECTRONINCS\n",
       "8   CHENNAI  ELECTRONINCS\n",
       "9   CHENNAI       APPAREL\n",
       "10  CHENNAI  SUPER MARKET\n",
       "11  CHENNAI  SUPER MARKET\n",
       "12  CHENNAI  SUPER MARKET\n",
       "13  CHENNAI       APPAREL\n",
       "14  CHENNAI       APPAREL\n",
       "15  CHENNAI  ELECTRONINCS\n",
       "16   MUMBAI  ELECTRONINCS\n",
       "17   MUMBAI       APPAREL\n",
       "18   MUMBAI  SUPER MARKET\n",
       "19   MUMBAI  SUPER MARKET\n",
       "20   MUMBAI  SUPER MARKET\n",
       "21   MUMBAI       APPAREL\n",
       "22   MUMBAI       APPAREL\n",
       "23   MUMBAI  ELECTRONINCS\n",
       "24  KOLKATA  ELECTRONINCS\n",
       "25  KOLKATA       APPAREL\n",
       "26  KOLKATA  SUPER MARKET\n",
       "27  KOLKATA  SUPER MARKET\n",
       "28  KOLKATA  SUPER MARKET\n",
       "29  KOLKATA       APPAREL\n",
       "30  KOLKATA       APPAREL\n",
       "31  KOLKATA  ELECTRONINCS"
      ]
     },
     "execution_count": 18,
     "metadata": {},
     "output_type": "execute_result"
    }
   ],
   "source": [
    "stores[['Location','StoreType']].applymap(lambda x: x.upper())"
   ]
  },
  {
   "cell_type": "code",
   "execution_count": 20,
   "metadata": {},
   "outputs": [
    {
     "data": {
      "text/html": [
       "<div>\n",
       "<style scoped>\n",
       "    .dataframe tbody tr th:only-of-type {\n",
       "        vertical-align: middle;\n",
       "    }\n",
       "\n",
       "    .dataframe tbody tr th {\n",
       "        vertical-align: top;\n",
       "    }\n",
       "\n",
       "    .dataframe thead th {\n",
       "        text-align: right;\n",
       "    }\n",
       "</style>\n",
       "<table border=\"1\" class=\"dataframe\">\n",
       "  <thead>\n",
       "    <tr style=\"text-align: right;\">\n",
       "      <th></th>\n",
       "      <th>StoreCode</th>\n",
       "      <th>StoreName</th>\n",
       "      <th>StoreType</th>\n",
       "      <th>Location</th>\n",
       "    </tr>\n",
       "  </thead>\n",
       "  <tbody>\n",
       "    <tr>\n",
       "      <th>0</th>\n",
       "      <td>STR101</td>\n",
       "      <td>ELECTRONICS ZONE</td>\n",
       "      <td>ELECTRONINCS</td>\n",
       "      <td>DELHI</td>\n",
       "    </tr>\n",
       "    <tr>\n",
       "      <th>1</th>\n",
       "      <td>STR102</td>\n",
       "      <td>APPAREL ZONE</td>\n",
       "      <td>APPAREL</td>\n",
       "      <td>DELHI</td>\n",
       "    </tr>\n",
       "    <tr>\n",
       "      <th>2</th>\n",
       "      <td>STR103</td>\n",
       "      <td>SUPER BAZAR</td>\n",
       "      <td>SUPER MARKET</td>\n",
       "      <td>DELHI</td>\n",
       "    </tr>\n",
       "    <tr>\n",
       "      <th>3</th>\n",
       "      <td>STR104</td>\n",
       "      <td>SUPER MARKET</td>\n",
       "      <td>SUPER MARKET</td>\n",
       "      <td>DELHI</td>\n",
       "    </tr>\n",
       "    <tr>\n",
       "      <th>4</th>\n",
       "      <td>STR105</td>\n",
       "      <td>CENTRAL STORE</td>\n",
       "      <td>SUPER MARKET</td>\n",
       "      <td>DELHI</td>\n",
       "    </tr>\n",
       "    <tr>\n",
       "      <th>5</th>\n",
       "      <td>STR106</td>\n",
       "      <td>APPAREL ZONE</td>\n",
       "      <td>APPAREL</td>\n",
       "      <td>DELHI</td>\n",
       "    </tr>\n",
       "    <tr>\n",
       "      <th>6</th>\n",
       "      <td>STR107</td>\n",
       "      <td>FASHION BAZAR</td>\n",
       "      <td>APPAREL</td>\n",
       "      <td>DELHI</td>\n",
       "    </tr>\n",
       "    <tr>\n",
       "      <th>7</th>\n",
       "      <td>STR108</td>\n",
       "      <td>DIGITAL BAZAR</td>\n",
       "      <td>ELECTRONINCS</td>\n",
       "      <td>DELHI</td>\n",
       "    </tr>\n",
       "    <tr>\n",
       "      <th>8</th>\n",
       "      <td>STR109</td>\n",
       "      <td>ELECTRONICS ZONE</td>\n",
       "      <td>ELECTRONINCS</td>\n",
       "      <td>CHENNAI</td>\n",
       "    </tr>\n",
       "    <tr>\n",
       "      <th>9</th>\n",
       "      <td>STR110</td>\n",
       "      <td>APPAREL ZONE</td>\n",
       "      <td>APPAREL</td>\n",
       "      <td>CHENNAI</td>\n",
       "    </tr>\n",
       "    <tr>\n",
       "      <th>10</th>\n",
       "      <td>STR111</td>\n",
       "      <td>SUPER BAZAR</td>\n",
       "      <td>SUPER MARKET</td>\n",
       "      <td>CHENNAI</td>\n",
       "    </tr>\n",
       "    <tr>\n",
       "      <th>11</th>\n",
       "      <td>STR112</td>\n",
       "      <td>SUPER MARKET</td>\n",
       "      <td>SUPER MARKET</td>\n",
       "      <td>CHENNAI</td>\n",
       "    </tr>\n",
       "    <tr>\n",
       "      <th>12</th>\n",
       "      <td>STR113</td>\n",
       "      <td>CENTRAL STORE</td>\n",
       "      <td>SUPER MARKET</td>\n",
       "      <td>CHENNAI</td>\n",
       "    </tr>\n",
       "    <tr>\n",
       "      <th>13</th>\n",
       "      <td>STR114</td>\n",
       "      <td>APPAREL ZONE</td>\n",
       "      <td>APPAREL</td>\n",
       "      <td>CHENNAI</td>\n",
       "    </tr>\n",
       "    <tr>\n",
       "      <th>14</th>\n",
       "      <td>STR115</td>\n",
       "      <td>FASHION BAZAR</td>\n",
       "      <td>APPAREL</td>\n",
       "      <td>CHENNAI</td>\n",
       "    </tr>\n",
       "    <tr>\n",
       "      <th>15</th>\n",
       "      <td>STR116</td>\n",
       "      <td>DIGITAL BAZAR</td>\n",
       "      <td>ELECTRONINCS</td>\n",
       "      <td>CHENNAI</td>\n",
       "    </tr>\n",
       "    <tr>\n",
       "      <th>16</th>\n",
       "      <td>STR117</td>\n",
       "      <td>ELECTRONICS ZONE</td>\n",
       "      <td>ELECTRONINCS</td>\n",
       "      <td>MUMBAI</td>\n",
       "    </tr>\n",
       "    <tr>\n",
       "      <th>17</th>\n",
       "      <td>STR118</td>\n",
       "      <td>APPAREL ZONE</td>\n",
       "      <td>APPAREL</td>\n",
       "      <td>MUMBAI</td>\n",
       "    </tr>\n",
       "    <tr>\n",
       "      <th>18</th>\n",
       "      <td>STR119</td>\n",
       "      <td>SUPER BAZAR</td>\n",
       "      <td>SUPER MARKET</td>\n",
       "      <td>MUMBAI</td>\n",
       "    </tr>\n",
       "    <tr>\n",
       "      <th>19</th>\n",
       "      <td>STR120</td>\n",
       "      <td>SUPER MARKET</td>\n",
       "      <td>SUPER MARKET</td>\n",
       "      <td>MUMBAI</td>\n",
       "    </tr>\n",
       "    <tr>\n",
       "      <th>20</th>\n",
       "      <td>STR121</td>\n",
       "      <td>CENTRAL STORE</td>\n",
       "      <td>SUPER MARKET</td>\n",
       "      <td>MUMBAI</td>\n",
       "    </tr>\n",
       "    <tr>\n",
       "      <th>21</th>\n",
       "      <td>STR122</td>\n",
       "      <td>APPAREL ZONE</td>\n",
       "      <td>APPAREL</td>\n",
       "      <td>MUMBAI</td>\n",
       "    </tr>\n",
       "    <tr>\n",
       "      <th>22</th>\n",
       "      <td>STR123</td>\n",
       "      <td>FASHION BAZAR</td>\n",
       "      <td>APPAREL</td>\n",
       "      <td>MUMBAI</td>\n",
       "    </tr>\n",
       "    <tr>\n",
       "      <th>23</th>\n",
       "      <td>STR124</td>\n",
       "      <td>DIGITAL BAZAR</td>\n",
       "      <td>ELECTRONINCS</td>\n",
       "      <td>MUMBAI</td>\n",
       "    </tr>\n",
       "    <tr>\n",
       "      <th>24</th>\n",
       "      <td>STR125</td>\n",
       "      <td>ELECTRONICS ZONE</td>\n",
       "      <td>ELECTRONINCS</td>\n",
       "      <td>KOLKATA</td>\n",
       "    </tr>\n",
       "    <tr>\n",
       "      <th>25</th>\n",
       "      <td>STR126</td>\n",
       "      <td>APPAREL ZONE</td>\n",
       "      <td>APPAREL</td>\n",
       "      <td>KOLKATA</td>\n",
       "    </tr>\n",
       "    <tr>\n",
       "      <th>26</th>\n",
       "      <td>STR127</td>\n",
       "      <td>SUPER BAZAR</td>\n",
       "      <td>SUPER MARKET</td>\n",
       "      <td>KOLKATA</td>\n",
       "    </tr>\n",
       "    <tr>\n",
       "      <th>27</th>\n",
       "      <td>STR128</td>\n",
       "      <td>SUPER MARKET</td>\n",
       "      <td>SUPER MARKET</td>\n",
       "      <td>KOLKATA</td>\n",
       "    </tr>\n",
       "    <tr>\n",
       "      <th>28</th>\n",
       "      <td>STR129</td>\n",
       "      <td>CENTRAL STORE</td>\n",
       "      <td>SUPER MARKET</td>\n",
       "      <td>KOLKATA</td>\n",
       "    </tr>\n",
       "    <tr>\n",
       "      <th>29</th>\n",
       "      <td>STR130</td>\n",
       "      <td>APPAREL ZONE</td>\n",
       "      <td>APPAREL</td>\n",
       "      <td>KOLKATA</td>\n",
       "    </tr>\n",
       "    <tr>\n",
       "      <th>30</th>\n",
       "      <td>STR131</td>\n",
       "      <td>FASHION BAZAR</td>\n",
       "      <td>APPAREL</td>\n",
       "      <td>KOLKATA</td>\n",
       "    </tr>\n",
       "    <tr>\n",
       "      <th>31</th>\n",
       "      <td>STR132</td>\n",
       "      <td>DIGITAL BAZAR</td>\n",
       "      <td>ELECTRONINCS</td>\n",
       "      <td>KOLKATA</td>\n",
       "    </tr>\n",
       "  </tbody>\n",
       "</table>\n",
       "</div>"
      ],
      "text/plain": [
       "   StoreCode         StoreName     StoreType Location\n",
       "0     STR101  ELECTRONICS ZONE  ELECTRONINCS    DELHI\n",
       "1     STR102      APPAREL ZONE       APPAREL    DELHI\n",
       "2     STR103       SUPER BAZAR  SUPER MARKET    DELHI\n",
       "3     STR104      SUPER MARKET  SUPER MARKET    DELHI\n",
       "4     STR105     CENTRAL STORE  SUPER MARKET    DELHI\n",
       "5     STR106      APPAREL ZONE       APPAREL    DELHI\n",
       "6     STR107     FASHION BAZAR       APPAREL    DELHI\n",
       "7     STR108     DIGITAL BAZAR  ELECTRONINCS    DELHI\n",
       "8     STR109  ELECTRONICS ZONE  ELECTRONINCS  CHENNAI\n",
       "9     STR110      APPAREL ZONE       APPAREL  CHENNAI\n",
       "10    STR111       SUPER BAZAR  SUPER MARKET  CHENNAI\n",
       "11    STR112      SUPER MARKET  SUPER MARKET  CHENNAI\n",
       "12    STR113     CENTRAL STORE  SUPER MARKET  CHENNAI\n",
       "13    STR114      APPAREL ZONE       APPAREL  CHENNAI\n",
       "14    STR115     FASHION BAZAR       APPAREL  CHENNAI\n",
       "15    STR116     DIGITAL BAZAR  ELECTRONINCS  CHENNAI\n",
       "16    STR117  ELECTRONICS ZONE  ELECTRONINCS   MUMBAI\n",
       "17    STR118      APPAREL ZONE       APPAREL   MUMBAI\n",
       "18    STR119       SUPER BAZAR  SUPER MARKET   MUMBAI\n",
       "19    STR120      SUPER MARKET  SUPER MARKET   MUMBAI\n",
       "20    STR121     CENTRAL STORE  SUPER MARKET   MUMBAI\n",
       "21    STR122      APPAREL ZONE       APPAREL   MUMBAI\n",
       "22    STR123     FASHION BAZAR       APPAREL   MUMBAI\n",
       "23    STR124     DIGITAL BAZAR  ELECTRONINCS   MUMBAI\n",
       "24    STR125  ELECTRONICS ZONE  ELECTRONINCS  KOLKATA\n",
       "25    STR126      APPAREL ZONE       APPAREL  KOLKATA\n",
       "26    STR127       SUPER BAZAR  SUPER MARKET  KOLKATA\n",
       "27    STR128      SUPER MARKET  SUPER MARKET  KOLKATA\n",
       "28    STR129     CENTRAL STORE  SUPER MARKET  KOLKATA\n",
       "29    STR130      APPAREL ZONE       APPAREL  KOLKATA\n",
       "30    STR131     FASHION BAZAR       APPAREL  KOLKATA\n",
       "31    STR132     DIGITAL BAZAR  ELECTRONINCS  KOLKATA"
      ]
     },
     "execution_count": 20,
     "metadata": {},
     "output_type": "execute_result"
    }
   ],
   "source": [
    "# convert all object variables from stores dataset into upper case\n",
    "stores.loc[:, stores.dtypes == 'object'].applymap(lambda x: x.upper())"
   ]
  },
  {
   "cell_type": "code",
   "execution_count": 21,
   "metadata": {},
   "outputs": [
    {
     "data": {
      "text/plain": [
       "Staff_Cnt          1980\n",
       "Total_Customers    4694\n",
       "OwnStore             14\n",
       "OnlinePresence       13\n",
       "Tenure              118\n",
       "StoreSegment         84\n",
       "dtype: int64"
      ]
     },
     "execution_count": 21,
     "metadata": {},
     "output_type": "execute_result"
    }
   ],
   "source": [
    "# get the sum of all numerical variables from stores dataset\n",
    "stores.loc[:, stores.dtypes == 'int64'].apply(sum)"
   ]
  },
  {
   "cell_type": "code",
   "execution_count": 22,
   "metadata": {},
   "outputs": [],
   "source": [
    "import pandas as pd\n",
    "stores = pd.read_csv('Data Sets/stores.csv', sep = ',')"
   ]
  },
  {
   "cell_type": "code",
   "execution_count": 27,
   "metadata": {},
   "outputs": [],
   "source": [
    "# describe function\n",
    "def summ_stats(x):\n",
    "    return pd.Series([x.count(), x.isnull().sum(), x.sum(), x.mean(), x.median(), x.std(), x.var(), x.min(), \n",
    "                          x.dropna().quantile(0.01), x.dropna().quantile(0.05), x.dropna().quantile(0.10), \n",
    "                              x.dropna().quantile(0.25), x.dropna().quantile(0.50), x.dropna().quantile(0.75), \n",
    "                                  x.dropna().quantile(0.90),x.dropna().quantile(0.95), x.dropna().quantile(0.99),x.max()], \n",
    "                  index=['N', 'NMISS', 'SUM', 'MEAN','MEDIAN', 'STD', 'VAR', 'MIN', 'P1' , 'P5' ,'P10' ,'P25' ,'P50' ,\n",
    "                             'P75' ,'P90' ,'P95' ,'P99' ,'MAX'])"
   ]
  },
  {
   "cell_type": "code",
   "execution_count": 28,
   "metadata": {},
   "outputs": [
    {
     "data": {
      "text/html": [
       "<div>\n",
       "<style scoped>\n",
       "    .dataframe tbody tr th:only-of-type {\n",
       "        vertical-align: middle;\n",
       "    }\n",
       "\n",
       "    .dataframe tbody tr th {\n",
       "        vertical-align: top;\n",
       "    }\n",
       "\n",
       "    .dataframe thead th {\n",
       "        text-align: right;\n",
       "    }\n",
       "</style>\n",
       "<table border=\"1\" class=\"dataframe\">\n",
       "  <thead>\n",
       "    <tr style=\"text-align: right;\">\n",
       "      <th></th>\n",
       "      <th>Staff_Cnt</th>\n",
       "      <th>Total_Customers</th>\n",
       "      <th>OwnStore</th>\n",
       "      <th>OnlinePresence</th>\n",
       "      <th>Tenure</th>\n",
       "      <th>StoreSegment</th>\n",
       "    </tr>\n",
       "  </thead>\n",
       "  <tbody>\n",
       "    <tr>\n",
       "      <th>N</th>\n",
       "      <td>32.000000</td>\n",
       "      <td>32.000000</td>\n",
       "      <td>32.000000</td>\n",
       "      <td>32.000000</td>\n",
       "      <td>32.000000</td>\n",
       "      <td>32.000000</td>\n",
       "    </tr>\n",
       "    <tr>\n",
       "      <th>NMISS</th>\n",
       "      <td>0.000000</td>\n",
       "      <td>0.000000</td>\n",
       "      <td>0.000000</td>\n",
       "      <td>0.000000</td>\n",
       "      <td>0.000000</td>\n",
       "      <td>0.000000</td>\n",
       "    </tr>\n",
       "    <tr>\n",
       "      <th>SUM</th>\n",
       "      <td>1980.000000</td>\n",
       "      <td>4694.000000</td>\n",
       "      <td>14.000000</td>\n",
       "      <td>13.000000</td>\n",
       "      <td>118.000000</td>\n",
       "      <td>84.000000</td>\n",
       "    </tr>\n",
       "    <tr>\n",
       "      <th>MEAN</th>\n",
       "      <td>61.875000</td>\n",
       "      <td>146.687500</td>\n",
       "      <td>0.437500</td>\n",
       "      <td>0.406250</td>\n",
       "      <td>3.687500</td>\n",
       "      <td>2.625000</td>\n",
       "    </tr>\n",
       "    <tr>\n",
       "      <th>MEDIAN</th>\n",
       "      <td>60.000000</td>\n",
       "      <td>123.000000</td>\n",
       "      <td>0.000000</td>\n",
       "      <td>0.000000</td>\n",
       "      <td>4.000000</td>\n",
       "      <td>2.000000</td>\n",
       "    </tr>\n",
       "    <tr>\n",
       "      <th>STD</th>\n",
       "      <td>17.859216</td>\n",
       "      <td>68.562868</td>\n",
       "      <td>0.504016</td>\n",
       "      <td>0.498991</td>\n",
       "      <td>0.737804</td>\n",
       "      <td>1.211504</td>\n",
       "    </tr>\n",
       "    <tr>\n",
       "      <th>VAR</th>\n",
       "      <td>318.951613</td>\n",
       "      <td>4700.866935</td>\n",
       "      <td>0.254032</td>\n",
       "      <td>0.248992</td>\n",
       "      <td>0.544355</td>\n",
       "      <td>1.467742</td>\n",
       "    </tr>\n",
       "    <tr>\n",
       "      <th>MIN</th>\n",
       "      <td>40.000000</td>\n",
       "      <td>52.000000</td>\n",
       "      <td>0.000000</td>\n",
       "      <td>0.000000</td>\n",
       "      <td>3.000000</td>\n",
       "      <td>1.000000</td>\n",
       "    </tr>\n",
       "    <tr>\n",
       "      <th>P1</th>\n",
       "      <td>40.000000</td>\n",
       "      <td>55.100000</td>\n",
       "      <td>0.000000</td>\n",
       "      <td>0.000000</td>\n",
       "      <td>3.000000</td>\n",
       "      <td>1.000000</td>\n",
       "    </tr>\n",
       "    <tr>\n",
       "      <th>P5</th>\n",
       "      <td>40.000000</td>\n",
       "      <td>63.650000</td>\n",
       "      <td>0.000000</td>\n",
       "      <td>0.000000</td>\n",
       "      <td>3.000000</td>\n",
       "      <td>1.000000</td>\n",
       "    </tr>\n",
       "    <tr>\n",
       "      <th>P10</th>\n",
       "      <td>40.000000</td>\n",
       "      <td>66.000000</td>\n",
       "      <td>0.000000</td>\n",
       "      <td>0.000000</td>\n",
       "      <td>3.000000</td>\n",
       "      <td>1.000000</td>\n",
       "    </tr>\n",
       "    <tr>\n",
       "      <th>P25</th>\n",
       "      <td>40.000000</td>\n",
       "      <td>96.500000</td>\n",
       "      <td>0.000000</td>\n",
       "      <td>0.000000</td>\n",
       "      <td>3.000000</td>\n",
       "      <td>2.000000</td>\n",
       "    </tr>\n",
       "    <tr>\n",
       "      <th>P50</th>\n",
       "      <td>60.000000</td>\n",
       "      <td>123.000000</td>\n",
       "      <td>0.000000</td>\n",
       "      <td>0.000000</td>\n",
       "      <td>4.000000</td>\n",
       "      <td>2.000000</td>\n",
       "    </tr>\n",
       "    <tr>\n",
       "      <th>P75</th>\n",
       "      <td>80.000000</td>\n",
       "      <td>180.000000</td>\n",
       "      <td>1.000000</td>\n",
       "      <td>1.000000</td>\n",
       "      <td>4.000000</td>\n",
       "      <td>4.000000</td>\n",
       "    </tr>\n",
       "    <tr>\n",
       "      <th>P90</th>\n",
       "      <td>80.000000</td>\n",
       "      <td>243.500000</td>\n",
       "      <td>1.000000</td>\n",
       "      <td>1.000000</td>\n",
       "      <td>5.000000</td>\n",
       "      <td>4.000000</td>\n",
       "    </tr>\n",
       "    <tr>\n",
       "      <th>P95</th>\n",
       "      <td>80.000000</td>\n",
       "      <td>253.550000</td>\n",
       "      <td>1.000000</td>\n",
       "      <td>1.000000</td>\n",
       "      <td>5.000000</td>\n",
       "      <td>4.000000</td>\n",
       "    </tr>\n",
       "    <tr>\n",
       "      <th>P99</th>\n",
       "      <td>80.000000</td>\n",
       "      <td>312.990000</td>\n",
       "      <td>1.000000</td>\n",
       "      <td>1.000000</td>\n",
       "      <td>5.000000</td>\n",
       "      <td>4.000000</td>\n",
       "    </tr>\n",
       "    <tr>\n",
       "      <th>MAX</th>\n",
       "      <td>80.000000</td>\n",
       "      <td>335.000000</td>\n",
       "      <td>1.000000</td>\n",
       "      <td>1.000000</td>\n",
       "      <td>5.000000</td>\n",
       "      <td>4.000000</td>\n",
       "    </tr>\n",
       "  </tbody>\n",
       "</table>\n",
       "</div>"
      ],
      "text/plain": [
       "          Staff_Cnt  Total_Customers   OwnStore  OnlinePresence      Tenure  \\\n",
       "N         32.000000        32.000000  32.000000       32.000000   32.000000   \n",
       "NMISS      0.000000         0.000000   0.000000        0.000000    0.000000   \n",
       "SUM     1980.000000      4694.000000  14.000000       13.000000  118.000000   \n",
       "MEAN      61.875000       146.687500   0.437500        0.406250    3.687500   \n",
       "MEDIAN    60.000000       123.000000   0.000000        0.000000    4.000000   \n",
       "STD       17.859216        68.562868   0.504016        0.498991    0.737804   \n",
       "VAR      318.951613      4700.866935   0.254032        0.248992    0.544355   \n",
       "MIN       40.000000        52.000000   0.000000        0.000000    3.000000   \n",
       "P1        40.000000        55.100000   0.000000        0.000000    3.000000   \n",
       "P5        40.000000        63.650000   0.000000        0.000000    3.000000   \n",
       "P10       40.000000        66.000000   0.000000        0.000000    3.000000   \n",
       "P25       40.000000        96.500000   0.000000        0.000000    3.000000   \n",
       "P50       60.000000       123.000000   0.000000        0.000000    4.000000   \n",
       "P75       80.000000       180.000000   1.000000        1.000000    4.000000   \n",
       "P90       80.000000       243.500000   1.000000        1.000000    5.000000   \n",
       "P95       80.000000       253.550000   1.000000        1.000000    5.000000   \n",
       "P99       80.000000       312.990000   1.000000        1.000000    5.000000   \n",
       "MAX       80.000000       335.000000   1.000000        1.000000    5.000000   \n",
       "\n",
       "        StoreSegment  \n",
       "N          32.000000  \n",
       "NMISS       0.000000  \n",
       "SUM        84.000000  \n",
       "MEAN        2.625000  \n",
       "MEDIAN      2.000000  \n",
       "STD         1.211504  \n",
       "VAR         1.467742  \n",
       "MIN         1.000000  \n",
       "P1          1.000000  \n",
       "P5          1.000000  \n",
       "P10         1.000000  \n",
       "P25         2.000000  \n",
       "P50         2.000000  \n",
       "P75         4.000000  \n",
       "P90         4.000000  \n",
       "P95         4.000000  \n",
       "P99         4.000000  \n",
       "MAX         4.000000  "
      ]
     },
     "execution_count": 28,
     "metadata": {},
     "output_type": "execute_result"
    }
   ],
   "source": [
    "stores.loc[:, stores.dtypes == 'int64'].apply(summ_stats)"
   ]
  },
  {
   "cell_type": "markdown",
   "metadata": {},
   "source": [
    "### DateTime Operations"
   ]
  },
  {
   "cell_type": "raw",
   "metadata": {},
   "source": [
    "# in pandas\n",
    "pd.to_datetime()\n",
    "pd.to_numeric()\n",
    "series.astype()"
   ]
  },
  {
   "cell_type": "code",
   "execution_count": 29,
   "metadata": {},
   "outputs": [
    {
     "data": {
      "text/html": [
       "<div>\n",
       "<style scoped>\n",
       "    .dataframe tbody tr th:only-of-type {\n",
       "        vertical-align: middle;\n",
       "    }\n",
       "\n",
       "    .dataframe tbody tr th {\n",
       "        vertical-align: top;\n",
       "    }\n",
       "\n",
       "    .dataframe thead th {\n",
       "        text-align: right;\n",
       "    }\n",
       "</style>\n",
       "<table border=\"1\" class=\"dataframe\">\n",
       "  <thead>\n",
       "    <tr style=\"text-align: right;\">\n",
       "      <th></th>\n",
       "      <th>Date</th>\n",
       "      <th>Configuration</th>\n",
       "      <th>Customer Postcode</th>\n",
       "      <th>Store Postcode</th>\n",
       "      <th>Retail Price</th>\n",
       "      <th>month</th>\n",
       "    </tr>\n",
       "  </thead>\n",
       "  <tbody>\n",
       "    <tr>\n",
       "      <th>0</th>\n",
       "      <td>01-01-13 0:01</td>\n",
       "      <td>163</td>\n",
       "      <td>EC4V 5BH</td>\n",
       "      <td>SE1 2BN</td>\n",
       "      <td>455</td>\n",
       "      <td>1</td>\n",
       "    </tr>\n",
       "    <tr>\n",
       "      <th>1</th>\n",
       "      <td>01-01-13 0:02</td>\n",
       "      <td>320</td>\n",
       "      <td>SW4 0JL</td>\n",
       "      <td>SW12 9HD</td>\n",
       "      <td>545</td>\n",
       "      <td>1</td>\n",
       "    </tr>\n",
       "    <tr>\n",
       "      <th>2</th>\n",
       "      <td>01-01-13 0:04</td>\n",
       "      <td>23</td>\n",
       "      <td>EC3V 1LR</td>\n",
       "      <td>E2 0RY</td>\n",
       "      <td>515</td>\n",
       "      <td>1</td>\n",
       "    </tr>\n",
       "    <tr>\n",
       "      <th>3</th>\n",
       "      <td>01-01-13 0:04</td>\n",
       "      <td>169</td>\n",
       "      <td>SW1P 3AU</td>\n",
       "      <td>SE1 2BN</td>\n",
       "      <td>395</td>\n",
       "      <td>1</td>\n",
       "    </tr>\n",
       "    <tr>\n",
       "      <th>4</th>\n",
       "      <td>01-01-13 0:06</td>\n",
       "      <td>365</td>\n",
       "      <td>EC4V 4EG</td>\n",
       "      <td>SW1V 4QQ</td>\n",
       "      <td>585</td>\n",
       "      <td>1</td>\n",
       "    </tr>\n",
       "  </tbody>\n",
       "</table>\n",
       "</div>"
      ],
      "text/plain": [
       "            Date  Configuration Customer Postcode Store Postcode  \\\n",
       "0  01-01-13 0:01            163          EC4V 5BH        SE1 2BN   \n",
       "1  01-01-13 0:02            320           SW4 0JL       SW12 9HD   \n",
       "2  01-01-13 0:04             23          EC3V 1LR         E2 0RY   \n",
       "3  01-01-13 0:04            169          SW1P 3AU        SE1 2BN   \n",
       "4  01-01-13 0:06            365          EC4V 4EG       SW1V 4QQ   \n",
       "\n",
       "   Retail Price  month  \n",
       "0           455      1  \n",
       "1           545      1  \n",
       "2           515      1  \n",
       "3           395      1  \n",
       "4           585      1  "
      ]
     },
     "execution_count": 29,
     "metadata": {},
     "output_type": "execute_result"
    }
   ],
   "source": [
    "Q1.head()"
   ]
  },
  {
   "cell_type": "code",
   "execution_count": 30,
   "metadata": {},
   "outputs": [
    {
     "data": {
      "text/plain": [
       "0    01-01-13 0:01\n",
       "1    01-01-13 0:02\n",
       "2    01-01-13 0:04\n",
       "3    01-01-13 0:04\n",
       "4    01-01-13 0:06\n",
       "Name: Date, dtype: object"
      ]
     },
     "execution_count": 30,
     "metadata": {},
     "output_type": "execute_result"
    }
   ],
   "source": [
    "Q1.Date"
   ]
  },
  {
   "cell_type": "code",
   "execution_count": 31,
   "metadata": {},
   "outputs": [
    {
     "data": {
      "text/plain": [
       "0   2013-01-01 00:01:00\n",
       "1   2013-01-01 00:02:00\n",
       "2   2013-01-01 00:04:00\n",
       "3   2013-01-01 00:04:00\n",
       "4   2013-01-01 00:06:00\n",
       "Name: Date, dtype: datetime64[ns]"
      ]
     },
     "execution_count": 31,
     "metadata": {},
     "output_type": "execute_result"
    }
   ],
   "source": [
    "pd.to_datetime(Q1.Date)"
   ]
  },
  {
   "cell_type": "raw",
   "metadata": {},
   "source": [
    "pd.to_numeric()\n",
    "pd.to_datetime()\n",
    "    date      : %d\n",
    "    day abb   : %a\n",
    "    day       : %A\n",
    "    month     : %m\n",
    "    month abb : %b\n",
    "    month     : %B\n",
    "    year w/o c: %y\n",
    "    year w c  : %Y\n",
    "    hours 24  : %H\n",
    "    hours 12  : %I\n",
    "    minutes   : %M\n",
    "    seconds   : %S\n",
    "    am/pm     : %p\n",
    "df.astype(str)"
   ]
  },
  {
   "cell_type": "code",
   "execution_count": 32,
   "metadata": {},
   "outputs": [
    {
     "data": {
      "text/plain": [
       "str"
      ]
     },
     "execution_count": 32,
     "metadata": {},
     "output_type": "execute_result"
    }
   ],
   "source": [
    "dob = '07-04-2000'    #mm-dd-yyyy\n",
    "type(dob)"
   ]
  },
  {
   "cell_type": "code",
   "execution_count": 33,
   "metadata": {},
   "outputs": [],
   "source": [
    "# convert following dates in to datetime\n",
    "d1 = pd.Series(['23-09-2012', '03-09-2019'])\n",
    "d2 = pd.Series(['12:45:55 pm 02232002', '11:40:55 pm 06022002', '12:04:55 am 10302002'])"
   ]
  },
  {
   "cell_type": "code",
   "execution_count": 35,
   "metadata": {},
   "outputs": [
    {
     "data": {
      "text/plain": [
       "0   2012-09-23\n",
       "1   2019-09-03\n",
       "dtype: datetime64[ns]"
      ]
     },
     "execution_count": 35,
     "metadata": {},
     "output_type": "execute_result"
    }
   ],
   "source": [
    "# series 1\n",
    "pd.to_datetime(d1, format='%d-%m-%Y')"
   ]
  },
  {
   "cell_type": "code",
   "execution_count": 38,
   "metadata": {},
   "outputs": [
    {
     "data": {
      "text/plain": [
       "0   2002-02-23 12:45:55\n",
       "1   2002-06-02 23:40:55\n",
       "2   2002-10-30 00:04:55\n",
       "dtype: datetime64[ns]"
      ]
     },
     "execution_count": 38,
     "metadata": {},
     "output_type": "execute_result"
    }
   ],
   "source": [
    "# series 2\n",
    "pd.to_datetime(d2, format = '%I:%M:%S %p %m%d%Y')\n",
    "\n",
    "#pd.to_datetime?"
   ]
  },
  {
   "cell_type": "raw",
   "metadata": {},
   "source": [
    "23-07-2019\n",
    "07/20/2018\n",
    "23-07-2019\n",
    "07/20/2018\n",
    "02-Aug-2019"
   ]
  },
  {
   "cell_type": "code",
   "execution_count": 39,
   "metadata": {},
   "outputs": [],
   "source": [
    "d3 = pd.Series(['34', '54.4', '66'])"
   ]
  },
  {
   "cell_type": "code",
   "execution_count": 40,
   "metadata": {},
   "outputs": [
    {
     "data": {
      "text/plain": [
       "0    134.0\n",
       "1    154.4\n",
       "2    166.0\n",
       "dtype: float64"
      ]
     },
     "execution_count": 40,
     "metadata": {},
     "output_type": "execute_result"
    }
   ],
   "source": [
    "pd.to_numeric(d3) + 100"
   ]
  },
  {
   "cell_type": "code",
   "execution_count": 42,
   "metadata": {},
   "outputs": [
    {
     "data": {
      "text/plain": [
       "0    163\n",
       "1    320\n",
       "2     23\n",
       "3    169\n",
       "4    365\n",
       "Name: Configuration, dtype: category\n",
       "Categories (5, int64): [23, 163, 169, 320, 365]"
      ]
     },
     "execution_count": 42,
     "metadata": {},
     "output_type": "execute_result"
    }
   ],
   "source": [
    "Q1.Configuration.astype('category')"
   ]
  },
  {
   "cell_type": "code",
   "execution_count": 43,
   "metadata": {},
   "outputs": [],
   "source": [
    "from datetime import datetime as dt"
   ]
  },
  {
   "cell_type": "code",
   "execution_count": 44,
   "metadata": {},
   "outputs": [
    {
     "name": "stdout",
     "output_type": "stream",
     "text": [
      "['__add__', '__class__', '__delattr__', '__dir__', '__doc__', '__eq__', '__format__', '__ge__', '__getattribute__', '__gt__', '__hash__', '__init__', '__init_subclass__', '__le__', '__lt__', '__ne__', '__new__', '__radd__', '__reduce__', '__reduce_ex__', '__repr__', '__rsub__', '__setattr__', '__sizeof__', '__str__', '__sub__', '__subclasshook__', 'astimezone', 'combine', 'ctime', 'date', 'day', 'dst', 'fold', 'fromisoformat', 'fromordinal', 'fromtimestamp', 'hour', 'isocalendar', 'isoformat', 'isoweekday', 'max', 'microsecond', 'min', 'minute', 'month', 'now', 'replace', 'resolution', 'second', 'strftime', 'strptime', 'time', 'timestamp', 'timetuple', 'timetz', 'today', 'toordinal', 'tzinfo', 'tzname', 'utcfromtimestamp', 'utcnow', 'utcoffset', 'utctimetuple', 'weekday', 'year']\n"
     ]
    }
   ],
   "source": [
    "print(dir(dt))"
   ]
  },
  {
   "cell_type": "code",
   "execution_count": 45,
   "metadata": {},
   "outputs": [
    {
     "data": {
      "text/plain": [
       "datetime.datetime(2021, 10, 26, 15, 54, 6, 23409)"
      ]
     },
     "execution_count": 45,
     "metadata": {},
     "output_type": "execute_result"
    }
   ],
   "source": [
    "dt.today()"
   ]
  },
  {
   "cell_type": "code",
   "execution_count": 46,
   "metadata": {},
   "outputs": [
    {
     "data": {
      "text/plain": [
       "datetime.datetime(2021, 10, 26, 15, 54, 31, 599341)"
      ]
     },
     "execution_count": 46,
     "metadata": {},
     "output_type": "execute_result"
    }
   ],
   "source": [
    "dt.now()"
   ]
  },
  {
   "cell_type": "code",
   "execution_count": 50,
   "metadata": {},
   "outputs": [
    {
     "data": {
      "text/plain": [
       "str"
      ]
     },
     "execution_count": 50,
     "metadata": {},
     "output_type": "execute_result"
    }
   ],
   "source": [
    "dt1='15-Aug-2019'\n",
    "type(dt1)"
   ]
  },
  {
   "cell_type": "code",
   "execution_count": 48,
   "metadata": {},
   "outputs": [
    {
     "data": {
      "text/plain": [
       "datetime.datetime(2019, 8, 15, 0, 0)"
      ]
     },
     "execution_count": 48,
     "metadata": {},
     "output_type": "execute_result"
    }
   ],
   "source": [
    "dt2=dt.strptime(dt1, '%d-%b-%Y')\n",
    "dt2"
   ]
  },
  {
   "cell_type": "code",
   "execution_count": 49,
   "metadata": {},
   "outputs": [
    {
     "data": {
      "text/plain": [
       "'15 August, 2019 - Thursday'"
      ]
     },
     "execution_count": 49,
     "metadata": {},
     "output_type": "execute_result"
    }
   ],
   "source": [
    "# dd mmmm, yyyy - dddd\n",
    "dt2.strftime('%d %B, %Y - %A')"
   ]
  },
  {
   "cell_type": "code",
   "execution_count": 51,
   "metadata": {},
   "outputs": [
    {
     "ename": "TypeError",
     "evalue": "strptime() argument 1 must be str, not Series",
     "output_type": "error",
     "traceback": [
      "\u001b[1;31m---------------------------------------------------------------------------\u001b[0m",
      "\u001b[1;31mTypeError\u001b[0m                                 Traceback (most recent call last)",
      "\u001b[1;32m<ipython-input-51-92d54f59b689>\u001b[0m in \u001b[0;36m<module>\u001b[1;34m\u001b[0m\n\u001b[0;32m      1\u001b[0m \u001b[1;31m# not applicable on series\u001b[0m\u001b[1;33m\u001b[0m\u001b[1;33m\u001b[0m\u001b[1;33m\u001b[0m\u001b[0m\n\u001b[1;32m----> 2\u001b[1;33m \u001b[0mdt\u001b[0m\u001b[1;33m.\u001b[0m\u001b[0mstrptime\u001b[0m\u001b[1;33m(\u001b[0m\u001b[0md1\u001b[0m\u001b[1;33m,\u001b[0m \u001b[1;34m'%d%m%Y'\u001b[0m\u001b[1;33m)\u001b[0m\u001b[1;33m\u001b[0m\u001b[1;33m\u001b[0m\u001b[0m\n\u001b[0m",
      "\u001b[1;31mTypeError\u001b[0m: strptime() argument 1 must be str, not Series"
     ]
    }
   ],
   "source": [
    "# not applicable on series\n",
    "dt.strptime(d1, '%d%m%Y')"
   ]
  },
  {
   "cell_type": "code",
   "execution_count": 52,
   "metadata": {},
   "outputs": [
    {
     "name": "stdout",
     "output_type": "stream",
     "text": [
      "['__add__', '__array_priority__', '__class__', '__delattr__', '__dict__', '__dir__', '__doc__', '__eq__', '__format__', '__ge__', '__getattribute__', '__gt__', '__hash__', '__init__', '__init_subclass__', '__le__', '__lt__', '__module__', '__ne__', '__new__', '__pyx_vtable__', '__radd__', '__reduce__', '__reduce_cython__', '__reduce_ex__', '__repr__', '__rsub__', '__setattr__', '__setstate__', '__setstate_cython__', '__sizeof__', '__str__', '__sub__', '__subclasshook__', '__weakref__', '_date_repr', '_repr_base', '_round', '_short_repr', '_time_repr', 'asm8', 'astimezone', 'ceil', 'combine', 'ctime', 'date', 'day', 'day_name', 'dayofweek', 'dayofyear', 'days_in_month', 'daysinmonth', 'dst', 'floor', 'fold', 'freq', 'freqstr', 'fromisoformat', 'fromordinal', 'fromtimestamp', 'hour', 'is_leap_year', 'is_month_end', 'is_month_start', 'is_quarter_end', 'is_quarter_start', 'is_year_end', 'is_year_start', 'isocalendar', 'isoformat', 'isoweekday', 'max', 'microsecond', 'min', 'minute', 'month', 'month_name', 'nanosecond', 'normalize', 'now', 'quarter', 'replace', 'resolution', 'round', 'second', 'strftime', 'strptime', 'time', 'timestamp', 'timetuple', 'timetz', 'to_datetime64', 'to_julian_date', 'to_numpy', 'to_period', 'to_pydatetime', 'today', 'toordinal', 'tz', 'tz_convert', 'tz_localize', 'tzinfo', 'tzname', 'utcfromtimestamp', 'utcnow', 'utcoffset', 'utctimetuple', 'value', 'week', 'weekday', 'weekofyear', 'year']\n"
     ]
    }
   ],
   "source": [
    "print(dir(pd.Timestamp))"
   ]
  },
  {
   "cell_type": "raw",
   "metadata": {},
   "source": [
    "Common operations on the date and time variables\n",
    "-----------------------------------------------------------------\n",
    "\n",
    "1. Get the system date/time\n",
    "2. Convert the str/object into date and time\n",
    "3. Convert the date time into some format\n",
    "4. Subtract two dates\n",
    "5. Add an integer value to a date"
   ]
  },
  {
   "cell_type": "raw",
   "metadata": {},
   "source": [
    "Questions\n",
    "-----------------------------------------------------------------\n",
    "\n",
    "1. Convert following dates in to datetime\n",
    "        d1 = pd.Series(['2309 2012', '0309 2019'])\n",
    "        d2 = pd.Series(['12:45:55 pm 02232002', '11:40:55 pm 06022002', '12:04:55 am 10302002'])\n",
    "\n",
    "2. Get your age in no of years\n",
    "\n",
    "3. Get the course completion date, if course stared on 1 Jul' 2019 and the duraion is 1 month 5 days\n",
    "\n",
    "4. Display the today's date in given format\n",
    "    dd-mmm-yy hh:mm\n",
    "        \n",
    "5. Display the current dayname e.g. Tuesday, Wednesday"
   ]
  },
  {
   "cell_type": "code",
   "execution_count": 54,
   "metadata": {},
   "outputs": [
    {
     "data": {
      "text/plain": [
       "0    12:45:55 pm 02232002\n",
       "1    11:40:55 pm 06022002\n",
       "2    12:04:55 am 10302002\n",
       "dtype: object"
      ]
     },
     "execution_count": 54,
     "metadata": {},
     "output_type": "execute_result"
    }
   ],
   "source": [
    "d2"
   ]
  },
  {
   "cell_type": "code",
   "execution_count": 55,
   "metadata": {},
   "outputs": [
    {
     "data": {
      "text/plain": [
       "0   2000-04-30 12:45:55\n",
       "1   2000-08-09 23:40:55\n",
       "2   2001-01-06 00:04:55\n",
       "dtype: datetime64[ns]"
      ]
     },
     "execution_count": 55,
     "metadata": {},
     "output_type": "execute_result"
    }
   ],
   "source": [
    "# get the last day of the month for all tha dates\n",
    "\n",
    "pd.to_datetime(d2, format = '%I:%M:%S %p %m%d%Y') + pd.DateOffset(days=7, months = 2, years=-2)"
   ]
  },
  {
   "cell_type": "code",
   "execution_count": 56,
   "metadata": {},
   "outputs": [
    {
     "data": {
      "text/plain": [
       "<DateOffset: years=2>"
      ]
     },
     "execution_count": 56,
     "metadata": {},
     "output_type": "execute_result"
    }
   ],
   "source": [
    "pd.DateOffset(years = 2)"
   ]
  },
  {
   "cell_type": "code",
   "execution_count": 59,
   "metadata": {},
   "outputs": [
    {
     "data": {
      "text/plain": [
       "0   2002-02-23 12:45:55\n",
       "1   2002-06-02 23:40:55\n",
       "2   2002-10-30 00:04:55\n",
       "dtype: datetime64[ns]"
      ]
     },
     "execution_count": 59,
     "metadata": {},
     "output_type": "execute_result"
    }
   ],
   "source": [
    "# 1. Convert following dates in to datetime\n",
    "pd.to_datetime(d2, format = '%I:%M:%S %p %m%d%Y')"
   ]
  },
  {
   "cell_type": "code",
   "execution_count": 63,
   "metadata": {},
   "outputs": [
    {
     "name": "stdout",
     "output_type": "stream",
     "text": [
      "Enter your DOB: (dd mmm yyyy)03 Oct 1997\n",
      "24\n"
     ]
    }
   ],
   "source": [
    "# 2. Get your age in no of years       '20 Jun 2000'\n",
    "dob = input('Enter your DOB: (dd mmm yyyy)')\n",
    "#dob='01 Jan 2000'\n",
    "current_dt  = pd.Timestamp.today()\n",
    "print(current_dt.year - dt.strptime(dob, '%d %b %Y').year)"
   ]
  },
  {
   "cell_type": "code",
   "execution_count": 64,
   "metadata": {},
   "outputs": [
    {
     "name": "stdout",
     "output_type": "stream",
     "text": [
      "21\n"
     ]
    }
   ],
   "source": [
    "#WITHOUT\n",
    "dob='01 Jan 2000'\n",
    "current_dt = pd.Timestamp.today()\n",
    "print(current_dt.year - dt.strptime(dob, '%d %b %Y').year)"
   ]
  },
  {
   "cell_type": "code",
   "execution_count": 65,
   "metadata": {},
   "outputs": [
    {
     "data": {
      "text/plain": [
       "datetime.datetime(2000, 1, 1, 0, 0)"
      ]
     },
     "execution_count": 65,
     "metadata": {},
     "output_type": "execute_result"
    }
   ],
   "source": [
    "dob='01 Jan 2000'\n",
    "#pd.to_datetime(dob, '%d %b %Y') # Works on pandas series and not on str\n",
    "dt.strptime(dob, '%d %b %Y')     # Works on str/ object but wont work on series\n",
    "dt.strptime(dob,'%d %b %Y')  #Pandas analoguos function strptime"
   ]
  },
  {
   "cell_type": "code",
   "execution_count": 66,
   "metadata": {},
   "outputs": [
    {
     "data": {
      "text/plain": [
       "Timestamp('2020-05-01 00:00:00')"
      ]
     },
     "execution_count": 66,
     "metadata": {},
     "output_type": "execute_result"
    }
   ],
   "source": [
    "# Get the course completion date, if course stared on 1 Jul' 2019 and the duraion is 1 month 5 days\n",
    "csd = dt.strptime(\"1 Jul' 2019\", \"%d %b' %Y\") + pd.DateOffset(years = 1, month = 5)\n",
    "csd"
   ]
  },
  {
   "cell_type": "code",
   "execution_count": 67,
   "metadata": {},
   "outputs": [
    {
     "data": {
      "text/plain": [
       "0    23-09-2012\n",
       "1    03-09-2019\n",
       "dtype: object"
      ]
     },
     "execution_count": 67,
     "metadata": {},
     "output_type": "execute_result"
    }
   ],
   "source": [
    "d1"
   ]
  },
  {
   "cell_type": "code",
   "execution_count": 68,
   "metadata": {},
   "outputs": [
    {
     "data": {
      "text/plain": [
       "0   2012-10-28\n",
       "1   2019-10-08\n",
       "dtype: datetime64[ns]"
      ]
     },
     "execution_count": 68,
     "metadata": {},
     "output_type": "execute_result"
    }
   ],
   "source": [
    "pd.to_datetime(d1, format = '%d-%m-%Y') + pd.DateOffset(months = 1, days = 5)"
   ]
  },
  {
   "cell_type": "code",
   "execution_count": 69,
   "metadata": {},
   "outputs": [],
   "source": [
    "# leap year\n",
    "date2 =dt.strptime(\"29 feb' 2000\", \"%d %b' %Y\") + pd.DateOffset(years = 1)"
   ]
  },
  {
   "cell_type": "code",
   "execution_count": 82,
   "metadata": {},
   "outputs": [
    {
     "data": {
      "text/plain": [
       "'26-10-21 16:10'"
      ]
     },
     "execution_count": 82,
     "metadata": {},
     "output_type": "execute_result"
    }
   ],
   "source": [
    "# 4. Display the today's date in given format [ dd-mmm-yy hh:mm ]\n",
    "pd.Timestamp.now().strftime('%d-%m-%y %H:%M')\n",
    "#pd.Timestamp.now().strftime('%A, %d-%b-%Y')"
   ]
  },
  {
   "cell_type": "code",
   "execution_count": 71,
   "metadata": {},
   "outputs": [
    {
     "data": {
      "text/plain": [
       "'Tuesday'"
      ]
     },
     "execution_count": 71,
     "metadata": {},
     "output_type": "execute_result"
    }
   ],
   "source": [
    "# 5. Display the current dayname e.g. Tuesday, Wednesday\n",
    "pd.Timestamp.now().strftime('%A')"
   ]
  },
  {
   "cell_type": "code",
   "execution_count": null,
   "metadata": {},
   "outputs": [],
   "source": []
  }
 ],
 "metadata": {
  "kernelspec": {
   "display_name": "Python 3",
   "language": "python",
   "name": "python3"
  },
  "language_info": {
   "codemirror_mode": {
    "name": "ipython",
    "version": 3
   },
   "file_extension": ".py",
   "mimetype": "text/x-python",
   "name": "python",
   "nbconvert_exporter": "python",
   "pygments_lexer": "ipython3",
   "version": "3.7.4"
  }
 },
 "nbformat": 4,
 "nbformat_minor": 2
}
